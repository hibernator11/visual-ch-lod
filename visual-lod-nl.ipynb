{
 "cells": [
  {
   "cell_type": "markdown",
   "id": "4d561e1c-b3f5-49fc-a79a-4432d4702c06",
   "metadata": {},
   "source": [
    "### Import python packages"
   ]
  },
  {
   "cell_type": "code",
   "execution_count": 1,
   "id": "4105b59a-8d7a-4907-9986-5606ac1c58bc",
   "metadata": {},
   "outputs": [],
   "source": [
    "from ipywidgets import interact, interactive, fixed, interact_manual, AppLayout, Button, HBox, Layout, VBox\n",
    "from IPython.display import display\n",
    "import ipywidgets as widgets\n",
    "from chvisual import CHData\n",
    "from dataset import Dataset\n",
    "import IPython\n",
    "import matplotlib.pyplot as plt\n",
    "from matplotlib.lines import Line2D\n",
    "import networkx as nx\n",
    "import numpy as np\n",
    "import ipyspin"
   ]
  },
  {
   "cell_type": "markdown",
   "id": "cb118e15-6a81-4286-b4f1-9353119edbb5",
   "metadata": {},
   "source": [
    "### Define the spin for long tasks"
   ]
  },
  {
   "cell_type": "code",
   "execution_count": 2,
   "id": "54291a2c-7f10-4560-a0f4-569339042574",
   "metadata": {},
   "outputs": [
    {
     "data": {
      "application/vnd.jupyter.widget-view+json": {
       "model_id": "d4bf61fbf47c476c880585a43b63ffcb",
       "version_major": 2,
       "version_minor": 0
      },
      "text/plain": [
       "Spinner(class_name='spinner', layout=Layout(height='40px', width='40px'), length=60.0, radius=8.0, width=8.0)"
      ]
     },
     "execution_count": 2,
     "metadata": {},
     "output_type": "execute_result"
    }
   ],
   "source": [
    "s = ipyspin.Spinner()\n",
    "\n",
    "s.layout.height = '40px'\n",
    "s.layout.width = '40px'\n",
    "\n",
    "s.lines = 13  # The number of lines to draw\n",
    "s.length = 60  # The length of each line\n",
    "s.width = 8  # The line thickness\n",
    "s.radius = 8  # The radius of the inner circle\n",
    "s.scale = 1  # Scales overall size of the spinner\n",
    "s.corners = 1  # Corner roundness (0..1)\n",
    "s.speed = 1  # Rounds per second\n",
    "s.rotate = 0  # The rotation offset\n",
    "s.animation = 'spinner-line-fade-quick'  # The CSS animation name for the lines\n",
    "s.direction = 1  # 1: clockwise, -1: counterclockwise\n",
    "s.color = '#000000'  # CSS color or array of colors\n",
    "s.fade_color = 'transparent'  # CSS color or array of colors\n",
    "s.top = '50%'  # Top position relative to parent\n",
    "s.left = '50%'  # Left position relative to parent\n",
    "s.shadow = '0 0 1px transparent'  # Box-shadow for the lines\n",
    "s.z_index = 2000000000  # The z-index (defaults to 2e9)\n",
    "s.class_name = 'spinner'  # The CSS class to assign to the spinner\n",
    "s.position = 'absolute'  # Element positioning\n",
    "\n",
    "s.stop()  # Removes the UI elements from the DOM and stops the animation\n",
    "\n",
    "s.spin()  # Stopped spinners may be reused by calling spin() again\n",
    "\n",
    "s  # Displays the spinner"
   ]
  },
  {
   "cell_type": "markdown",
   "id": "59e9cb62-17ba-467b-b78d-8b024354b9ee",
   "metadata": {},
   "source": [
    "### Create select for the SPARQL endpoint"
   ]
  },
  {
   "cell_type": "code",
   "execution_count": 3,
   "id": "82d38839-4333-4988-be83-14b3e96c3a0d",
   "metadata": {},
   "outputs": [],
   "source": [
    "def set_SPARQL(endpoint):\n",
    "    print(f'SPARQL is {endpoint}')\n",
    "    display()\n",
    "    return endpoint\n",
    "\n",
    "dataset = Dataset()\n",
    "     \n",
    "sparqlWidget = widgets.interactive(set_SPARQL, endpoint=['http://data.bibliotheken.nl/sparql']);"
   ]
  },
  {
   "cell_type": "code",
   "execution_count": 4,
   "id": "9b128c5f-3861-415f-a637-39d82692c67f",
   "metadata": {},
   "outputs": [
    {
     "data": {
      "text/plain": [
       "'http://data.bibliotheken.nl/sparql'"
      ]
     },
     "execution_count": 4,
     "metadata": {},
     "output_type": "execute_result"
    }
   ],
   "source": [
    "sparqlWidget.result"
   ]
  },
  {
   "cell_type": "markdown",
   "id": "42a5d044-c139-4061-b7c3-a444fbe044ad",
   "metadata": {},
   "source": [
    "### Init the SPARQL lib and test"
   ]
  },
  {
   "cell_type": "code",
   "execution_count": 5,
   "id": "1945db19-2380-4392-b8b8-43e10f54df18",
   "metadata": {},
   "outputs": [],
   "source": [
    "chdata = CHData(sparqlWidget.result, 30)"
   ]
  },
  {
   "cell_type": "markdown",
   "id": "69213f30-38c0-458d-afc1-456ae39e511b",
   "metadata": {},
   "source": [
    "### Retrieve authors from the selected SPARQL endpoint and create the interface"
   ]
  },
  {
   "cell_type": "code",
   "execution_count": 6,
   "id": "fb6a0cce-93ae-4892-8f93-91121e6c6fdb",
   "metadata": {},
   "outputs": [],
   "source": [
    "def set_Author(author):\n",
    "    out = widgets.Output()\n",
    "    display(out)\n",
    "    \n",
    "    with out:\n",
    "        display(s)\n",
    "\n",
    "        idAuthor = author[author.rindex('-') +2:]\n",
    "        authorData = chdata.getAuthorInfo(idAuthor)\n",
    "        metadataItems = []\n",
    "        optionsItems = []\n",
    "     \n",
    "        p = None\n",
    "        metadata = ''\n",
    "        for r in authorData:\n",
    "            propertyLink = \"<a href=\" + r['p']['value'] +  \"><font color='blue'>\"+ r['p']['value'] + \"</font></a>\"\n",
    "            metadata = metadata + \"<p>\" + propertyLink + \": \" + r['o']['value'] + \"</p>\" \n",
    "        p = widgets.HTML(metadata)\n",
    "        metadataItems.append(p)\n",
    "    \n",
    "        #img = None\n",
    "        #url = chdata.getDepiction(authorData)\n",
    "        #if url != None and url != '':\n",
    "        #    img = widgets.HTML(\"<img width='50%' src='\"+url+\"'>\")\n",
    "        #    optionsItems.append(img)\n",
    "    \n",
    "        downloadButton = widgets.Button(\n",
    "            description='Download metadata',\n",
    "            disabled=False,\n",
    "            button_style='', # 'success', 'info', 'warning', 'danger' or ''\n",
    "            tooltip='Download metadata',\n",
    "            icon='download' # (FontAwesome names without the `fa-` prefix)\n",
    "        )\n",
    "    \n",
    "        def on_button_clicked(b):\n",
    "            chdata.downloadGraph(idAuthor)\n",
    "            \n",
    "        downloadButton.on_click(on_button_clicked)\n",
    "        optionsItems.append(downloadButton)\n",
    "    \n",
    "        optionsLayout = VBox()\n",
    "        optionsLayout.children = optionsItems\n",
    "        metadataItems.append(optionsLayout)\n",
    "    \n",
    "        metadataLayout = HBox()\n",
    "        metadataLayout.children = metadataItems\n",
    "    \n",
    "        widget_plot_graph = widgets.Output(layout=Layout(width='70%'))\n",
    "        with widget_plot_graph:\n",
    "            IPython.display.clear_output(True)\n",
    "            g = chdata.getGraph(idAuthor.replace(\"/doc/\", \"/id/\"))\n",
    "    \n",
    "            colors = []\n",
    "            for u in g.nodes(data=\"nodetype\"):\n",
    "                if u[1] in (\"red\", \"green\", \"blue\",\"yellow\", \"cyan\", \"magenta\"):\n",
    "                    colors.append(u[1])\n",
    "                elif u[1] == None:\n",
    "                    colors.append(\"blue\")\n",
    "                else:\n",
    "                    #do something?\n",
    "                    print(\"ERROR: Should be red, green, blue or None\")\n",
    "    \n",
    "            legend_elements = [\n",
    "                Line2D([0], [0], marker='o', color='w', label='Author class',markerfacecolor='g', markersize=15),\n",
    "                Line2D([0], [0], marker='o', color='w', label='Work class',markerfacecolor='r', markersize=15),\n",
    "                Line2D([0], [0], marker='o', color='w', label='Author node',markerfacecolor='y', markersize=15),\n",
    "                Line2D([0], [0], marker='o', color='w', label='Other',markerfacecolor='b', markersize=15),\n",
    "                Line2D([0], [0], marker='o', color='w', label='Manifestation class',markerfacecolor='m', markersize=15),\n",
    "                Line2D([0], [0], marker='o', color='w', label='Concept class',markerfacecolor='c', markersize=15),\n",
    "            ]\n",
    "            \n",
    "            nx.draw_networkx(g, node_color=colors, with_labels=False)\n",
    "            plt.legend(handles=legend_elements, loc='upper right')\n",
    "            plt.show()\n",
    "    \n",
    "        worksData = chdata.getAuthorWorks(idAuthor)\n",
    "        worksWidget = None\n",
    "        worksText = ''\n",
    "        for r in worksData:\n",
    "            workLink = \"<a href=\" + r['s']['value'] +  \"><font color='blue'>\"+ r['s']['value'] + \"</font></a>\"\n",
    "            worksText = worksText + \"<p>\" + workLink + \": \" + r['label']['value'] + \"</p>\" \n",
    "        worksWidget = widgets.HTML(worksText)\n",
    "    \n",
    "        accordionChildren = []\n",
    "        accordionChildren.append(metadataLayout)\n",
    "        accordionChildren.append(worksWidget)\n",
    "        accordionChildren.append(widget_plot_graph)\n",
    "        authorLayout = widgets.Accordion(children=accordionChildren, titles=('Metadata', 'Works', 'Graph'))\n",
    "        out.clear_output()\n",
    "        display(authorLayout)\n",
    "    \n",
    "    return author\n",
    "\n",
    "authorWidget = widgets.interactive(set_Author, author=chdata.getAuthors());"
   ]
  },
  {
   "cell_type": "markdown",
   "id": "358b831b-af8f-4822-ab5c-fb037ea2203f",
   "metadata": {},
   "source": [
    "### Retrieve classes from the repository"
   ]
  },
  {
   "cell_type": "code",
   "execution_count": 7,
   "id": "8a1b5682-1677-4e91-aca9-3fbad84535aa",
   "metadata": {},
   "outputs": [],
   "source": [
    "classesItems = []\n",
    "p = None\n",
    "classesText = ''\n",
    "classesData = chdata.getClasses()\n",
    "for i in classesData[0]:\n",
    "    classLink = \"<a href=\" + i +  \"><font color='blue'>\"+ i + \"</font></a>\"\n",
    "    classesText = classesText + \"<p>\" + classLink + \"</p>\" \n",
    "p = widgets.HTML(classesText)\n",
    "classesItems.append(p)\n",
    "\n",
    "widget_plot_classes = widgets.Output(layout=Layout(width='50%'))\n",
    "with widget_plot_classes:\n",
    "    IPython.display.clear_output(True)\n",
    "    X = np.array(list(classesData[1].keys()))\n",
    "    Y = np.array(list(classesData[1].values()))\n",
    "    plt.xticks(rotation='vertical')\n",
    "    fig = plt.bar(X, Y, color ='blue', width = 0.6)\n",
    "    plt.show()\n",
    "classesItems.append(widget_plot_classes)\n",
    "\n",
    "classesLayout = HBox()\n",
    "classesLayout.children = classesItems"
   ]
  },
  {
   "cell_type": "markdown",
   "id": "3865f666-e856-448a-86a3-b3335e658b6c",
   "metadata": {},
   "source": [
    "### Retrieve properties from the repository"
   ]
  },
  {
   "cell_type": "code",
   "execution_count": 8,
   "id": "3e6285d2-b2cb-48c2-81b6-43eb84e85744",
   "metadata": {},
   "outputs": [],
   "source": [
    "propertiesItems = []\n",
    "p = None\n",
    "propertiesText = ''\n",
    "propertiesData = chdata.getProperties()\n",
    "\n",
    "for i in propertiesData[0]:\n",
    "    propertyLink = \"<a href=\" + i +  \"><font color='blue'>\"+ i + \"</font></a>\"\n",
    "    propertiesText = propertiesText + \"<p>\" + propertyLink + \"</p>\" \n",
    "p = widgets.HTML(propertiesText)\n",
    "propertiesItems.append(p)\n",
    "\n",
    "widget_plot_properties = widgets.Output(layout=Layout(width='50%'))\n",
    "with widget_plot_properties:\n",
    "    IPython.display.clear_output(True)\n",
    "    X = np.array(list(propertiesData[1].keys()))\n",
    "    Y = np.array(list(propertiesData[1].values()))\n",
    "    plt.xticks(rotation='vertical')\n",
    "    fig = plt.bar(X, Y, color ='blue', width = 0.6)\n",
    "    plt.show()\n",
    "propertiesItems.append(widget_plot_properties)\n",
    "\n",
    "propertiesLayout = HBox()\n",
    "propertiesLayout.children = propertiesItems"
   ]
  },
  {
   "cell_type": "markdown",
   "id": "0df49bc4-6b61-45f1-b8d0-bea78e39d833",
   "metadata": {},
   "source": [
    "### Create Wikidata visualisation"
   ]
  },
  {
   "cell_type": "code",
   "execution_count": 9,
   "id": "0ad2c214-acb1-413b-839a-390b239916fe",
   "metadata": {},
   "outputs": [],
   "source": [
    "wikidata_file = open('map/nl-wikidata-map.html', \"r\")\n",
    "wikidataWidget = widgets.HTML(wikidata_file.read())"
   ]
  },
  {
   "cell_type": "markdown",
   "id": "5e6fee08-a392-4ccb-a766-14b549c0a30f",
   "metadata": {},
   "source": [
    "### Create visual interface"
   ]
  },
  {
   "cell_type": "code",
   "execution_count": 10,
   "id": "49ef0913-a432-427a-832f-8035092808bd",
   "metadata": {
    "scrolled": true
   },
   "outputs": [
    {
     "data": {
      "application/vnd.jupyter.widget-view+json": {
       "model_id": "7e31b1b7c02a436da6093b2cce2a344d",
       "version_major": 2,
       "version_minor": 0
      },
      "text/plain": [
       "Tab(children=(interactive(children=(Dropdown(description='endpoint', options=('http://data.bibliotheken.nl/spa…"
      ]
     },
     "execution_count": 10,
     "metadata": {},
     "output_type": "execute_result"
    }
   ],
   "source": [
    "children = []\n",
    "titles = []\n",
    "tab = widgets.Tab()\n",
    "children.insert(0,sparqlWidget)\n",
    "children.insert(1,authorWidget)\n",
    "children.insert(2,classesLayout)\n",
    "children.insert(3,propertiesLayout)\n",
    "children.insert(4,wikidataWidget)\n",
    "tab.children = children\n",
    "\n",
    "titles.insert(0, 'SPARQL endpoint')\n",
    "titles.insert(1, 'Author')\n",
    "titles.insert(2, 'Classes')\n",
    "titles.insert(3, 'Properties')\n",
    "titles.insert(4, 'Wikidata')\n",
    "tab.titles = titles\n",
    "\n",
    "tab"
   ]
  }
 ],
 "metadata": {
  "kernelspec": {
   "display_name": "Python 3",
   "language": "python",
   "name": "python3"
  },
  "language_info": {
   "codemirror_mode": {
    "name": "ipython",
    "version": 3
   },
   "file_extension": ".py",
   "mimetype": "text/x-python",
   "name": "python",
   "nbconvert_exporter": "python",
   "pygments_lexer": "ipython3",
   "version": "3.9.18"
  }
 },
 "nbformat": 4,
 "nbformat_minor": 5
}
